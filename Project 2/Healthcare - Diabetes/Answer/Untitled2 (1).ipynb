{
 "cells": [
  {
   "cell_type": "code",
   "execution_count": 1,
   "metadata": {},
   "outputs": [],
   "source": [
    "import numpy as np\n",
    "import pandas as pd\n",
    "import matplotlib.pyplot as plt\n",
    "import re\n",
    "import nltk\n",
    "\n",
    "from nltk.corpus import stopwords\n",
    "from nltk.stem.porter import PorterStemmer"
   ]
  },
  {
   "cell_type": "code",
   "execution_count": 2,
   "metadata": {},
   "outputs": [],
   "source": [
    "paragraph = \"Make a decision to let go of any limiting beliefs you have about hard work, and start thinking about how you can use leverage to become more successful.Ask three of your closest friends this question: On a scale of 1-7, 7 being most ambitious, how ambitious do you think I am? If you’re not at least a 6 you only have a slim chance of ever being rich.\""
   ]
  },
  {
   "cell_type": "code",
   "execution_count": 3,
   "metadata": {},
   "outputs": [],
   "source": [
    "sentence=nltk.word_tokenize(paragraph)"
   ]
  },
  {
   "cell_type": "code",
   "execution_count": 4,
   "metadata": {},
   "outputs": [
    {
     "name": "stdout",
     "output_type": "stream",
     "text": [
      "['Make', 'a', 'decision', 'to', 'let', 'go', 'of', 'any', 'limiting', 'beliefs', 'you', 'have', 'about', 'hard', 'work', ',', 'and', 'start', 'thinking', 'about', 'how', 'you', 'can', 'use', 'leverage', 'to', 'become', 'more', 'successful.Ask', 'three', 'of', 'your', 'closest', 'friends', 'this', 'question', ':', 'On', 'a', 'scale', 'of', '1-7', ',', '7', 'being', 'most', 'ambitious', ',', 'how', 'ambitious', 'do', 'you', 'think', 'I', 'am', '?', 'If', 'you', '’', 're', 'not', 'at', 'least', 'a', '6', 'you', 'only', 'have', 'a', 'slim', 'chance', 'of', 'ever', 'being', 'rich', '.']\n"
     ]
    }
   ],
   "source": [
    "print(sentence)"
   ]
  },
  {
   "cell_type": "code",
   "execution_count": 5,
   "metadata": {},
   "outputs": [],
   "source": [
    "corpus =[]\n",
    "for i in range(len(sentence)):\n",
    "    new_sentence_1=re.sub(r\"[^a-zA-Z]\",\" \",sentence[i])\n",
    "    new_sentence_1=new_sentence_1.lower()\n",
    "    new_sentence_1=new_sentence_1.split()\n",
    "    ps=PorterStemmer()\n",
    "    all_stopwords=stopwords.words('english')\n",
    "    new_sentence_2=[ps.stem(word)for word in new_sentence_1 if not word in set(all_stopwords)]\n",
    "    new_sentence_2=\" \".join(new_sentence_2)\n",
    "    corpus.append(new_sentence_2)\n",
    "    \n",
    "   \n",
    "    "
   ]
  },
  {
   "cell_type": "raw",
   "metadata": {},
   "source": []
  },
  {
   "cell_type": "raw",
   "metadata": {},
   "source": []
  },
  {
   "cell_type": "code",
   "execution_count": 38,
   "metadata": {},
   "outputs": [
    {
     "name": "stdout",
     "output_type": "stream",
     "text": [
      "76\n"
     ]
    }
   ],
   "source": [
    "print(len(corpus))"
   ]
  },
  {
   "cell_type": "code",
   "execution_count": 39,
   "metadata": {},
   "outputs": [
    {
     "name": "stdout",
     "output_type": "stream",
     "text": [
      "['make', '', 'decis', '', 'let', 'go', '', '', 'limit', 'belief', '', '', '', 'hard', 'work', '', '', 'start', 'think', '', '', '', '', 'use', 'leverag', '', 'becom', '', 'success ask', 'three', '', '', 'closest', 'friend', '', 'question', '', '', '', 'scale', '', '', '', '', '', '', 'ambiti', '', '', 'ambiti', '', '', 'think', '', '', '', '', '', '', '', '', '', 'least', '', '', '', '', '', '', 'slim', 'chanc', '', 'ever', '', 'rich', '']\n"
     ]
    }
   ],
   "source": [
    "print(corpus)"
   ]
  },
  {
   "cell_type": "code",
   "execution_count": 41,
   "metadata": {},
   "outputs": [
    {
     "data": {
      "text/plain": [
       "(array([51.,  2.,  3.,  2.,  4.,  2.,  3.,  2.,  4.,  3.]),\n",
       " array([ 0. ,  2.5,  5. ,  7.5, 10. , 12.5, 15. , 17.5, 20. , 22.5, 25. ]),\n",
       " <a list of 10 Patch objects>)"
      ]
     },
     "execution_count": 41,
     "metadata": {},
     "output_type": "execute_result"
    },
    {
     "data": {
      "image/png": "[encoded data removed]",
      "text/plain": [
       "<Figure size 432x288 with 1 Axes>"
      ]
     },
     "metadata": {
      "needs_background": "light"
     },
     "output_type": "display_data"
    }
   ],
   "source": [
    "plt.hist(corpus)"
   ]
  },
  {
   "cell_type": "code",
   "execution_count": 47,
   "metadata": {},
   "outputs": [],
   "source": [
    "paragraph=\"I love deep learning .Machine learning is subset of deep learning.\""
   ]
  },
  {
   "cell_type": "code",
   "execution_count": 48,
   "metadata": {},
   "outputs": [],
   "source": [
    "corpus1 =[]\n",
    "for i in range(len(paragraph)):\n",
    "    new_sentence_3=re.sub(r\"[^a-zA-Z]\",\" \",paragraph[i])\n",
    "    new_sentence_3=new_sentence_3.lower()\n",
    "    new_sentence_3=new_sentence_3.split()\n",
    "    ps=PorterStemmer()\n",
    "    all_stopwords=stopwords.words('english')\n",
    "    new_sentence_5=[ps.stem(word1)for word1 in new_sentence_3 if not word1 in set(all_stopwords)]\n",
    "    new_sentence_5=\" \".join(new_sentence_5)\n",
    "    corpus1.append(new_sentence_5)"
   ]
  },
  {
   "cell_type": "code",
   "execution_count": 49,
   "metadata": {},
   "outputs": [
    {
     "data": {
      "text/plain": [
       "(array([35.,  1., 10.,  2.,  3., 10.,  1.,  1.,  1.,  2.]),\n",
       " array([ 0. ,  1.2,  2.4,  3.6,  4.8,  6. ,  7.2,  8.4,  9.6, 10.8, 12. ]),\n",
       " <a list of 10 Patch objects>)"
      ]
     },
     "execution_count": 49,
     "metadata": {},
     "output_type": "execute_result"
    },
    {
     "data": {
      "image/png": "[encoded data removed]",
      "text/plain": [
       "<Figure size 432x288 with 1 Axes>"
      ]
     },
     "metadata": {
      "needs_background": "light"
     },
     "output_type": "display_data"
    }
   ],
   "source": [
    "corpus1"
   ]
  },
  {
   "cell_type": "code",
   "execution_count": null,
   "metadata": {},
   "outputs": [],
   "source": []
  }
 ],
 "metadata": {
  "kernelspec": {
   "display_name": "Python 3",
   "language": "python",
   "name": "python3"
  },
  "language_info": {
   "codemirror_mode": {
    "name": "ipython",
    "version": 3
   },
   "file_extension": ".py",
   "mimetype": "text/x-python",
   "name": "python",
   "nbconvert_exporter": "python",
   "pygments_lexer": "ipython3",
   "version": "3.7.6"
  }
 },
 "nbformat": 4,
 "nbformat_minor": 4
}
