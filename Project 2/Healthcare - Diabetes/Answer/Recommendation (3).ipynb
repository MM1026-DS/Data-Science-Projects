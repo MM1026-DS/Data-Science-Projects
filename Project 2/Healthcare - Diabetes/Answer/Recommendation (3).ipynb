{
 "cells": [
  {
   "cell_type": "code",
   "execution_count": 1,
   "metadata": {},
   "outputs": [],
   "source": [
    "# Installing the packages\n",
    "import numpy as np\n",
    "import pandas as pd\n",
    "from apyori import apriori\n",
    "from sklearn.model_selection import train_test_split\n",
    "from sklearn.metrics.pairwise import pairwise_distances\n",
    "from sklearn.metrics import mean_squared_error\n",
    "from math import sqrt"
   ]
  },
  {
   "cell_type": "code",
   "execution_count": 2,
   "metadata": {},
   "outputs": [
    {
     "data": {
      "text/html": [
       "<div>\n",
       "<style scoped>\n",
       "    .dataframe tbody tr th:only-of-type {\n",
       "        vertical-align: middle;\n",
       "    }\n",
       "\n",
       "    .dataframe tbody tr th {\n",
       "        vertical-align: top;\n",
       "    }\n",
       "\n",
       "    .dataframe thead th {\n",
       "        text-align: right;\n",
       "    }\n",
       "</style>\n",
       "<table border=\"1\" class=\"dataframe\">\n",
       "  <thead>\n",
       "    <tr style=\"text-align: right;\">\n",
       "      <th></th>\n",
       "      <th>user_id</th>\n",
       "      <th>Movie1</th>\n",
       "      <th>Movie2</th>\n",
       "      <th>Movie3</th>\n",
       "      <th>Movie4</th>\n",
       "      <th>Movie5</th>\n",
       "      <th>Movie6</th>\n",
       "      <th>Movie7</th>\n",
       "      <th>Movie8</th>\n",
       "      <th>Movie9</th>\n",
       "      <th>...</th>\n",
       "      <th>Movie197</th>\n",
       "      <th>Movie198</th>\n",
       "      <th>Movie199</th>\n",
       "      <th>Movie200</th>\n",
       "      <th>Movie201</th>\n",
       "      <th>Movie202</th>\n",
       "      <th>Movie203</th>\n",
       "      <th>Movie204</th>\n",
       "      <th>Movie205</th>\n",
       "      <th>Movie206</th>\n",
       "    </tr>\n",
       "  </thead>\n",
       "  <tbody>\n",
       "    <tr>\n",
       "      <th>0</th>\n",
       "      <td>A3R5OBKS7OM2IR</td>\n",
       "      <td>5.0</td>\n",
       "      <td>5.0</td>\n",
       "      <td>NaN</td>\n",
       "      <td>NaN</td>\n",
       "      <td>NaN</td>\n",
       "      <td>NaN</td>\n",
       "      <td>NaN</td>\n",
       "      <td>NaN</td>\n",
       "      <td>NaN</td>\n",
       "      <td>...</td>\n",
       "      <td>NaN</td>\n",
       "      <td>NaN</td>\n",
       "      <td>NaN</td>\n",
       "      <td>NaN</td>\n",
       "      <td>NaN</td>\n",
       "      <td>NaN</td>\n",
       "      <td>NaN</td>\n",
       "      <td>NaN</td>\n",
       "      <td>NaN</td>\n",
       "      <td>NaN</td>\n",
       "    </tr>\n",
       "    <tr>\n",
       "      <th>1</th>\n",
       "      <td>AH3QC2PC1VTGP</td>\n",
       "      <td>NaN</td>\n",
       "      <td>NaN</td>\n",
       "      <td>2.0</td>\n",
       "      <td>NaN</td>\n",
       "      <td>NaN</td>\n",
       "      <td>NaN</td>\n",
       "      <td>NaN</td>\n",
       "      <td>NaN</td>\n",
       "      <td>NaN</td>\n",
       "      <td>...</td>\n",
       "      <td>NaN</td>\n",
       "      <td>NaN</td>\n",
       "      <td>NaN</td>\n",
       "      <td>NaN</td>\n",
       "      <td>NaN</td>\n",
       "      <td>NaN</td>\n",
       "      <td>NaN</td>\n",
       "      <td>NaN</td>\n",
       "      <td>NaN</td>\n",
       "      <td>NaN</td>\n",
       "    </tr>\n",
       "    <tr>\n",
       "      <th>2</th>\n",
       "      <td>A3LKP6WPMP9UKX</td>\n",
       "      <td>NaN</td>\n",
       "      <td>NaN</td>\n",
       "      <td>NaN</td>\n",
       "      <td>5.0</td>\n",
       "      <td>NaN</td>\n",
       "      <td>NaN</td>\n",
       "      <td>NaN</td>\n",
       "      <td>NaN</td>\n",
       "      <td>NaN</td>\n",
       "      <td>...</td>\n",
       "      <td>NaN</td>\n",
       "      <td>NaN</td>\n",
       "      <td>NaN</td>\n",
       "      <td>NaN</td>\n",
       "      <td>NaN</td>\n",
       "      <td>NaN</td>\n",
       "      <td>NaN</td>\n",
       "      <td>NaN</td>\n",
       "      <td>NaN</td>\n",
       "      <td>NaN</td>\n",
       "    </tr>\n",
       "    <tr>\n",
       "      <th>3</th>\n",
       "      <td>AVIY68KEPQ5ZD</td>\n",
       "      <td>NaN</td>\n",
       "      <td>NaN</td>\n",
       "      <td>NaN</td>\n",
       "      <td>5.0</td>\n",
       "      <td>NaN</td>\n",
       "      <td>NaN</td>\n",
       "      <td>NaN</td>\n",
       "      <td>NaN</td>\n",
       "      <td>NaN</td>\n",
       "      <td>...</td>\n",
       "      <td>NaN</td>\n",
       "      <td>NaN</td>\n",
       "      <td>NaN</td>\n",
       "      <td>NaN</td>\n",
       "      <td>NaN</td>\n",
       "      <td>NaN</td>\n",
       "      <td>NaN</td>\n",
       "      <td>NaN</td>\n",
       "      <td>NaN</td>\n",
       "      <td>NaN</td>\n",
       "    </tr>\n",
       "    <tr>\n",
       "      <th>4</th>\n",
       "      <td>A1CV1WROP5KTTW</td>\n",
       "      <td>NaN</td>\n",
       "      <td>NaN</td>\n",
       "      <td>NaN</td>\n",
       "      <td>NaN</td>\n",
       "      <td>5.0</td>\n",
       "      <td>NaN</td>\n",
       "      <td>NaN</td>\n",
       "      <td>NaN</td>\n",
       "      <td>NaN</td>\n",
       "      <td>...</td>\n",
       "      <td>NaN</td>\n",
       "      <td>NaN</td>\n",
       "      <td>NaN</td>\n",
       "      <td>NaN</td>\n",
       "      <td>NaN</td>\n",
       "      <td>NaN</td>\n",
       "      <td>NaN</td>\n",
       "      <td>NaN</td>\n",
       "      <td>NaN</td>\n",
       "      <td>NaN</td>\n",
       "    </tr>\n",
       "  </tbody>\n",
       "</table>\n",
       "<p>5 rows × 207 columns</p>\n",
       "</div>"
      ],
      "text/plain": [
       "          user_id  Movie1  Movie2  Movie3  Movie4  Movie5  Movie6  Movie7  \\\n",
       "0  A3R5OBKS7OM2IR     5.0     5.0     NaN     NaN     NaN     NaN     NaN   \n",
       "1   AH3QC2PC1VTGP     NaN     NaN     2.0     NaN     NaN     NaN     NaN   \n",
       "2  A3LKP6WPMP9UKX     NaN     NaN     NaN     5.0     NaN     NaN     NaN   \n",
       "3   AVIY68KEPQ5ZD     NaN     NaN     NaN     5.0     NaN     NaN     NaN   \n",
       "4  A1CV1WROP5KTTW     NaN     NaN     NaN     NaN     5.0     NaN     NaN   \n",
       "\n",
       "   Movie8  Movie9  ...  Movie197  Movie198  Movie199  Movie200  Movie201  \\\n",
       "0     NaN     NaN  ...       NaN       NaN       NaN       NaN       NaN   \n",
       "1     NaN     NaN  ...       NaN       NaN       NaN       NaN       NaN   \n",
       "2     NaN     NaN  ...       NaN       NaN       NaN       NaN       NaN   \n",
       "3     NaN     NaN  ...       NaN       NaN       NaN       NaN       NaN   \n",
       "4     NaN     NaN  ...       NaN       NaN       NaN       NaN       NaN   \n",
       "\n",
       "   Movie202  Movie203  Movie204  Movie205  Movie206  \n",
       "0       NaN       NaN       NaN       NaN       NaN  \n",
       "1       NaN       NaN       NaN       NaN       NaN  \n",
       "2       NaN       NaN       NaN       NaN       NaN  \n",
       "3       NaN       NaN       NaN       NaN       NaN  \n",
       "4       NaN       NaN       NaN       NaN       NaN  \n",
       "\n",
       "[5 rows x 207 columns]"
      ]
     },
     "execution_count": 2,
     "metadata": {},
     "output_type": "execute_result"
    }
   ],
   "source": [
    "# importing the dataset\n",
    "dataset = pd.read_csv(\"Amazon - Movies and TV Ratings.csv\")\n",
    "#dataset.head()\n",
    "dataset.head()\n"
   ]
  },
  {
   "cell_type": "code",
   "execution_count": null,
   "metadata": {},
   "outputs": [],
   "source": []
  },
  {
   "cell_type": "code",
   "execution_count": null,
   "metadata": {},
   "outputs": [],
   "source": []
  },
  {
   "cell_type": "code",
   "execution_count": 3,
   "metadata": {},
   "outputs": [
    {
     "data": {
      "text/plain": [
       "user_id        0\n",
       "Movie1      4847\n",
       "Movie2      4847\n",
       "Movie3      4847\n",
       "Movie4      4846\n",
       "            ... \n",
       "Movie202    4842\n",
       "Movie203    4847\n",
       "Movie204    4840\n",
       "Movie205    4813\n",
       "Movie206    4835\n",
       "Length: 207, dtype: int64"
      ]
     },
     "execution_count": 3,
     "metadata": {},
     "output_type": "execute_result"
    }
   ],
   "source": [
    "dataset.isnull().sum()\n"
   ]
  },
  {
   "cell_type": "code",
   "execution_count": 4,
   "metadata": {},
   "outputs": [],
   "source": [
    "# dataset[dataset.iloc[:,1:]>max(dataset.iloc[:,1:].all())]"
   ]
  },
  {
   "cell_type": "code",
   "execution_count": 5,
   "metadata": {},
   "outputs": [],
   "source": [
    "# dataset.filter(dataset.iloc[:,1:]>max(dataset.iloc[:,1:].all()))"
   ]
  },
  {
   "cell_type": "code",
   "execution_count": 6,
   "metadata": {},
   "outputs": [
    {
     "data": {
      "text/plain": [
       "pandas.core.frame.DataFrame"
      ]
     },
     "execution_count": 6,
     "metadata": {},
     "output_type": "execute_result"
    }
   ],
   "source": [
    "type(dataset)"
   ]
  },
  {
   "cell_type": "code",
   "execution_count": 7,
   "metadata": {},
   "outputs": [],
   "source": [
    "maximum_rating_of_each_movie = dataset.max()"
   ]
  },
  {
   "cell_type": "code",
   "execution_count": 8,
   "metadata": {},
   "outputs": [],
   "source": [
    "maximum_rating_all_movies = dataset.iloc[:,1:].max() "
   ]
  },
  {
   "cell_type": "code",
   "execution_count": 9,
   "metadata": {},
   "outputs": [],
   "source": [
    "maximum_rating_among_all_movies = max(maximum_rating_all_movies)"
   ]
  },
  {
   "cell_type": "code",
   "execution_count": 10,
   "metadata": {},
   "outputs": [
    {
     "data": {
      "text/plain": [
       "pandas.core.series.Series"
      ]
     },
     "execution_count": 10,
     "metadata": {},
     "output_type": "execute_result"
    }
   ],
   "source": [
    "type(maximum_rating_all_movies)"
   ]
  },
  {
   "cell_type": "code",
   "execution_count": 11,
   "metadata": {},
   "outputs": [],
   "source": [
    "# EDA Answer"
   ]
  },
  {
   "cell_type": "code",
   "execution_count": 12,
   "metadata": {},
   "outputs": [
    {
     "name": "stdout",
     "output_type": "stream",
     "text": [
      "Movie1      5.0\n",
      "Movie2      5.0\n",
      "Movie4      5.0\n",
      "Movie5      5.0\n",
      "Movie7      5.0\n",
      "           ... \n",
      "Movie201    5.0\n",
      "Movie202    5.0\n",
      "Movie204    5.0\n",
      "Movie205    5.0\n",
      "Movie206    5.0\n",
      "Length: 176, dtype: float64\n"
     ]
    }
   ],
   "source": [
    "#  Ans1 i) Movies with max ratings\n",
    "all_max_rating_movies = maximum_rating_all_movies[maximum_rating_all_movies ==maximum_rating_among_all_movies]\n",
    "print(all_max_rating_movies)"
   ]
  },
  {
   "cell_type": "code",
   "execution_count": 13,
   "metadata": {},
   "outputs": [
    {
     "name": "stdout",
     "output_type": "stream",
     "text": [
      "176\n"
     ]
    }
   ],
   "source": [
    "# count of max rating movies\n",
    "Count_max_rating_movies = all_max_rating_movies.count()\n",
    "print(Count_max_rating_movies)"
   ]
  },
  {
   "cell_type": "code",
   "execution_count": 14,
   "metadata": {},
   "outputs": [],
   "source": [
    "Count_of_views_movies = dataset.iloc[:,1:].notnull().sum()"
   ]
  },
  {
   "cell_type": "code",
   "execution_count": 15,
   "metadata": {},
   "outputs": [
    {
     "data": {
      "text/plain": [
       "2313"
      ]
     },
     "execution_count": 15,
     "metadata": {},
     "output_type": "execute_result"
    }
   ],
   "source": [
    "max(Count_of_views_movies)"
   ]
  },
  {
   "cell_type": "code",
   "execution_count": 16,
   "metadata": {},
   "outputs": [
    {
     "name": "stdout",
     "output_type": "stream",
     "text": [
      "Movie127    2313\n",
      "dtype: int64\n"
     ]
    }
   ],
   "source": [
    "#  Ans 1 ii)Movie with max view (movie127)\n",
    "movies_with_max_views = Count_of_views_movies[Count_of_views_movies==max(Count_of_views_movies)]\n",
    "print(movies_with_max_views)"
   ]
  },
  {
   "cell_type": "code",
   "execution_count": 17,
   "metadata": {},
   "outputs": [],
   "source": [
    "#  Avrage rating of each movie\n",
    "averagerating_each_movie = dataset.iloc[:,1:].mean()"
   ]
  },
  {
   "cell_type": "code",
   "execution_count": 18,
   "metadata": {},
   "outputs": [],
   "source": [
    "Highest_avg_rating_among_all=averagerating_each_movie[averagerating_each_movie==maximum_rating_among_all_movies]"
   ]
  },
  {
   "cell_type": "code",
   "execution_count": 19,
   "metadata": {},
   "outputs": [
    {
     "data": {
      "text/plain": [
       "Movie1    5.0\n",
       "Movie2    5.0\n",
       "Movie4    5.0\n",
       "Movie7    5.0\n",
       "Movie8    5.0\n",
       "dtype: float64"
      ]
     },
     "execution_count": 19,
     "metadata": {},
     "output_type": "execute_result"
    }
   ],
   "source": [
    "# Answer2\n",
    "Highest_avg_rating_among_all.head(5)"
   ]
  },
  {
   "cell_type": "code",
   "execution_count": 20,
   "metadata": {},
   "outputs": [],
   "source": [
    "# Answer 3 Step1 all the null Views count\n",
    "Count_of_lessviews_movies = dataset.iloc[:,1:].isnull().sum()"
   ]
  },
  {
   "cell_type": "code",
   "execution_count": 21,
   "metadata": {},
   "outputs": [],
   "source": [
    "# Answer3 step2\n",
    "Movie_with_high_rating_lessaud=Highest_avg_rating_among_all[( Count_of_lessviews_movies ==max(Count_of_lessviews_movies))]"
   ]
  },
  {
   "cell_type": "code",
   "execution_count": 22,
   "metadata": {},
   "outputs": [
    {
     "data": {
      "text/plain": [
       "Movie1    5.0\n",
       "Movie2    5.0\n",
       "Movie7    5.0\n",
       "Movie8    5.0\n",
       "Movie9    5.0\n",
       "dtype: float64"
      ]
     },
     "execution_count": 22,
     "metadata": {},
     "output_type": "execute_result"
    }
   ],
   "source": [
    "# Answer3 EDA Movie with high rating and less audience avg rating =5 & Not View max \n",
    "Movie_with_high_rating_lessaud.head(5)"
   ]
  },
  {
   "cell_type": "code",
   "execution_count": 23,
   "metadata": {},
   "outputs": [],
   "source": [
    "# dataset[dataset.iloc[:,1:] == max( dataset.iloc[:,1:].isnull().sum())]"
   ]
  },
  {
   "cell_type": "code",
   "execution_count": 24,
   "metadata": {},
   "outputs": [
    {
     "data": {
      "text/plain": [
       "Movie1      4848\n",
       "Movie2      4848\n",
       "Movie3      4848\n",
       "Movie4      4848\n",
       "Movie5      4848\n",
       "            ... \n",
       "Movie202    4848\n",
       "Movie203    4848\n",
       "Movie204    4848\n",
       "Movie205    4848\n",
       "Movie206    4848\n",
       "Length: 206, dtype: int64"
      ]
     },
     "execution_count": 24,
     "metadata": {},
     "output_type": "execute_result"
    }
   ],
   "source": [
    "dataset.iloc[:,1:].isnull().count()"
   ]
  },
  {
   "cell_type": "code",
   "execution_count": 25,
   "metadata": {},
   "outputs": [
    {
     "name": "stdout",
     "output_type": "stream",
     "text": [
      "             user_id  Movie1  Movie2  Movie3  Movie4  Movie5  Movie6  Movie7  \\\n",
      "0     A3R5OBKS7OM2IR     5.0     5.0     NaN     NaN     NaN     NaN     NaN   \n",
      "1      AH3QC2PC1VTGP     NaN     NaN     2.0     NaN     NaN     NaN     NaN   \n",
      "2     A3LKP6WPMP9UKX     NaN     NaN     NaN     5.0     NaN     NaN     NaN   \n",
      "3      AVIY68KEPQ5ZD     NaN     NaN     NaN     5.0     NaN     NaN     NaN   \n",
      "4     A1CV1WROP5KTTW     NaN     NaN     NaN     NaN     5.0     NaN     NaN   \n",
      "...              ...     ...     ...     ...     ...     ...     ...     ...   \n",
      "4843  A1IMQ9WMFYKWH5     NaN     NaN     NaN     NaN     NaN     NaN     NaN   \n",
      "4844  A1KLIKPUF5E88I     NaN     NaN     NaN     NaN     NaN     NaN     NaN   \n",
      "4845   A5HG6WFZLO10D     NaN     NaN     NaN     NaN     NaN     NaN     NaN   \n",
      "4846  A3UU690TWXCG1X     NaN     NaN     NaN     NaN     NaN     NaN     NaN   \n",
      "4847   AI4J762YI6S06     NaN     NaN     NaN     NaN     NaN     NaN     NaN   \n",
      "\n",
      "      Movie8  Movie9  ...  Movie197  Movie198  Movie199  Movie200  Movie201  \\\n",
      "0        NaN     NaN  ...       NaN       NaN       NaN       NaN       NaN   \n",
      "1        NaN     NaN  ...       NaN       NaN       NaN       NaN       NaN   \n",
      "2        NaN     NaN  ...       NaN       NaN       NaN       NaN       NaN   \n",
      "3        NaN     NaN  ...       NaN       NaN       NaN       NaN       NaN   \n",
      "4        NaN     NaN  ...       NaN       NaN       NaN       NaN       NaN   \n",
      "...      ...     ...  ...       ...       ...       ...       ...       ...   \n",
      "4843     NaN     NaN  ...       NaN       NaN       NaN       NaN       NaN   \n",
      "4844     NaN     NaN  ...       NaN       NaN       NaN       NaN       NaN   \n",
      "4845     NaN     NaN  ...       NaN       NaN       NaN       NaN       NaN   \n",
      "4846     NaN     NaN  ...       NaN       NaN       NaN       NaN       NaN   \n",
      "4847     NaN     NaN  ...       NaN       NaN       NaN       NaN       NaN   \n",
      "\n",
      "      Movie202  Movie203  Movie204  Movie205  Movie206  \n",
      "0          NaN       NaN       NaN       NaN       NaN  \n",
      "1          NaN       NaN       NaN       NaN       NaN  \n",
      "2          NaN       NaN       NaN       NaN       NaN  \n",
      "3          NaN       NaN       NaN       NaN       NaN  \n",
      "4          NaN       NaN       NaN       NaN       NaN  \n",
      "...        ...       ...       ...       ...       ...  \n",
      "4843       NaN       NaN       NaN       NaN       5.0  \n",
      "4844       NaN       NaN       NaN       NaN       5.0  \n",
      "4845       NaN       NaN       NaN       NaN       5.0  \n",
      "4846       NaN       NaN       NaN       NaN       5.0  \n",
      "4847       NaN       NaN       NaN       NaN       5.0  \n",
      "\n",
      "[4848 rows x 207 columns]\n"
     ]
    }
   ],
   "source": [
    "print(dataset)"
   ]
  },
  {
   "cell_type": "code",
   "execution_count": 26,
   "metadata": {},
   "outputs": [],
   "source": [
    "Number_of_user_notwatch_movie= dataset.iloc[:,1:].isnull().sum()"
   ]
  },
  {
   "cell_type": "code",
   "execution_count": 27,
   "metadata": {},
   "outputs": [],
   "source": [
    "# part of data reverse eng.\n",
    "# data = [[Number_of_user_notwatch_movie],[score_of_each_movie]] "
   ]
  },
  {
   "cell_type": "code",
   "execution_count": 28,
   "metadata": {},
   "outputs": [],
   "source": [
    "# dataset.iloc[:,1:10].mean()"
   ]
  },
  {
   "cell_type": "code",
   "execution_count": 29,
   "metadata": {},
   "outputs": [],
   "source": [
    "# all_max_rating_movies"
   ]
  },
  {
   "cell_type": "code",
   "execution_count": 30,
   "metadata": {},
   "outputs": [],
   "source": [
    "# dataset.iloc[:,1:].isnull().sum()"
   ]
  },
  {
   "cell_type": "code",
   "execution_count": 31,
   "metadata": {},
   "outputs": [],
   "source": [
    "# df[df['first_name'].notnull() & (df['nationality'] == \"USA\")]"
   ]
  },
  {
   "cell_type": "code",
   "execution_count": 32,
   "metadata": {},
   "outputs": [],
   "source": [
    "# dataset[a[a == max(a)] and (c[c == 5])].all()"
   ]
  },
  {
   "cell_type": "code",
   "execution_count": 33,
   "metadata": {},
   "outputs": [],
   "source": [
    "# dataset[a[a == max(a)]].all() and dataset[c[c == 5]].all() \n"
   ]
  },
  {
   "cell_type": "code",
   "execution_count": 34,
   "metadata": {},
   "outputs": [
    {
     "data": {
      "text/plain": [
       "list"
      ]
     },
     "execution_count": 34,
     "metadata": {},
     "output_type": "execute_result"
    }
   ],
   "source": [
    "type([dataset])"
   ]
  },
  {
   "cell_type": "code",
   "execution_count": 35,
   "metadata": {},
   "outputs": [
    {
     "data": {
      "text/plain": [
       "0       A3R5OBKS7OM2IR\n",
       "1        AH3QC2PC1VTGP\n",
       "2       A3LKP6WPMP9UKX\n",
       "3        AVIY68KEPQ5ZD\n",
       "4       A1CV1WROP5KTTW\n",
       "             ...      \n",
       "4843    A1IMQ9WMFYKWH5\n",
       "4844    A1KLIKPUF5E88I\n",
       "4845     A5HG6WFZLO10D\n",
       "4846    A3UU690TWXCG1X\n",
       "4847     AI4J762YI6S06\n",
       "Name: user_id, Length: 4848, dtype: object"
      ]
     },
     "execution_count": 35,
     "metadata": {},
     "output_type": "execute_result"
    }
   ],
   "source": [
    "dataset['user_id']"
   ]
  },
  {
   "cell_type": "code",
   "execution_count": 36,
   "metadata": {},
   "outputs": [],
   "source": [
    " a = dataset.iloc[1,:].notnull()"
   ]
  },
  {
   "cell_type": "code",
   "execution_count": 37,
   "metadata": {},
   "outputs": [
    {
     "data": {
      "text/plain": [
       "user_id    True\n",
       "Movie3     True\n",
       "Name: 1, dtype: bool"
      ]
     },
     "execution_count": 37,
     "metadata": {},
     "output_type": "execute_result"
    }
   ],
   "source": [
    "a[a == True]"
   ]
  },
  {
   "cell_type": "code",
   "execution_count": null,
   "metadata": {},
   "outputs": [],
   "source": []
  },
  {
   "cell_type": "code",
   "execution_count": 38,
   "metadata": {},
   "outputs": [],
   "source": [
    "# for i in range(0,4849):\n",
    "#     a = dataset.iloc[i,:].notnull().values\n",
    "#     d = a[a>=1]\n",
    "#     print(d)"
   ]
  },
  {
   "cell_type": "code",
   "execution_count": 39,
   "metadata": {},
   "outputs": [
    {
     "name": "stdout",
     "output_type": "stream",
     "text": [
      "<pandas.core.groupby.generic.DataFrameGroupBy object at 0x7fc6e7808a90>\n"
     ]
    }
   ],
   "source": [
    "a = dataset.iloc[:,1:].notnull().groupby(dataset.iloc[:,0])\n",
    "print(a)"
   ]
  },
  {
   "cell_type": "code",
   "execution_count": 40,
   "metadata": {},
   "outputs": [],
   "source": [
    "a =dataset.iloc[:,1:].notnull()"
   ]
  },
  {
   "cell_type": "code",
   "execution_count": 41,
   "metadata": {},
   "outputs": [
    {
     "name": "stdout",
     "output_type": "stream",
     "text": [
      "user_id    True\n",
      "Movie1     True\n",
      "Movie2     True\n",
      "Name: 0, dtype: bool\n",
      "user_id    True\n",
      "Movie1     True\n",
      "Movie2     True\n",
      "Name: 0, dtype: bool\n",
      "user_id    True\n",
      "Movie1     True\n",
      "Movie2     True\n",
      "Name: 0, dtype: bool\n"
     ]
    }
   ],
   "source": [
    "for i in range(0,3):\n",
    "    m=dataset.iloc[0,:].notnull()\n",
    "    k=m[m==True]\n",
    "    print(k)\n",
    "        "
   ]
  },
  {
   "cell_type": "code",
   "execution_count": 42,
   "metadata": {},
   "outputs": [],
   "source": [
    "# First method but manual work required step1\n",
    "\n",
    "m=dataset.iloc[11,:].notnull()\n"
   ]
  },
  {
   "cell_type": "code",
   "execution_count": 43,
   "metadata": {},
   "outputs": [
    {
     "data": {
      "text/plain": [
       "array([ True,  True])"
      ]
     },
     "execution_count": 43,
     "metadata": {},
     "output_type": "execute_result"
    }
   ],
   "source": [
    "#  Step2\n",
    "m[m==True].values\n"
   ]
  },
  {
   "cell_type": "code",
   "execution_count": 44,
   "metadata": {},
   "outputs": [
    {
     "name": "stdout",
     "output_type": "stream",
     "text": [
      "user_id    A3VCKTRD24BG7K\n",
      "Movie1                NaN\n",
      "Movie2                NaN\n",
      "Movie3                NaN\n",
      "Movie4                NaN\n",
      "Movie5                  5\n",
      "Name: 9, dtype: object\n"
     ]
    }
   ],
   "source": [
    "\n",
    "# for i in range(0,4849):\n",
    "#     for j in range(0,207):\n",
    "#         k=dataset.iloc[i,0:j]\n",
    "#         print(k)\n",
    "\n",
    "# Now we know which movie has score we take only these movie\n",
    "k= dataset.iloc[9,0:6]\n",
    "print(k)"
   ]
  },
  {
   "cell_type": "code",
   "execution_count": 45,
   "metadata": {},
   "outputs": [
    {
     "data": {
      "text/plain": [
       "'A3VCKTRD24BG7K'"
      ]
     },
     "execution_count": 45,
     "metadata": {},
     "output_type": "execute_result"
    }
   ],
   "source": [
    "k[0]"
   ]
  },
  {
   "cell_type": "code",
   "execution_count": 46,
   "metadata": {},
   "outputs": [],
   "source": [
    "# Step 4 Manually dataframe creation\n",
    "data =[['A3R5OBKS7OM2IR','Movie1',5],['A3R5OBKS7OM2IR','Movie2',5],['AH3QC2PC1VTGP','Movie3',2],['A3LKP6WPMP9UKX','Movie4',5],\n",
    "       ['AVIY68KEPQ5ZD','Movie4',5],['A1CV1WROP5KTTW','Movie5',5],['AP57WZ2X4G0AA','Movie5',2],['A3NMBJ2LCRCATT','Movie5',5],\n",
    "        ['A5Y15SAOMX6XA','Movie5',2],['A3P671HJ32TCSF','Movie5',5],['A3VCKTRD24BG7K','Movie5',5],[]]"
   ]
  },
  {
   "cell_type": "code",
   "execution_count": 47,
   "metadata": {},
   "outputs": [
    {
     "data": {
      "text/plain": [
       "<bound method DataFrame.insert of              user_id  Movie1  Movie2  Movie3  Movie4  Movie5  Movie6  Movie7  \\\n",
       "0     A3R5OBKS7OM2IR     5.0     5.0     NaN     NaN     NaN     NaN     NaN   \n",
       "1      AH3QC2PC1VTGP     NaN     NaN     2.0     NaN     NaN     NaN     NaN   \n",
       "2     A3LKP6WPMP9UKX     NaN     NaN     NaN     5.0     NaN     NaN     NaN   \n",
       "3      AVIY68KEPQ5ZD     NaN     NaN     NaN     5.0     NaN     NaN     NaN   \n",
       "4     A1CV1WROP5KTTW     NaN     NaN     NaN     NaN     5.0     NaN     NaN   \n",
       "...              ...     ...     ...     ...     ...     ...     ...     ...   \n",
       "4843  A1IMQ9WMFYKWH5     NaN     NaN     NaN     NaN     NaN     NaN     NaN   \n",
       "4844  A1KLIKPUF5E88I     NaN     NaN     NaN     NaN     NaN     NaN     NaN   \n",
       "4845   A5HG6WFZLO10D     NaN     NaN     NaN     NaN     NaN     NaN     NaN   \n",
       "4846  A3UU690TWXCG1X     NaN     NaN     NaN     NaN     NaN     NaN     NaN   \n",
       "4847   AI4J762YI6S06     NaN     NaN     NaN     NaN     NaN     NaN     NaN   \n",
       "\n",
       "      Movie8  Movie9  ...  Movie197  Movie198  Movie199  Movie200  Movie201  \\\n",
       "0        NaN     NaN  ...       NaN       NaN       NaN       NaN       NaN   \n",
       "1        NaN     NaN  ...       NaN       NaN       NaN       NaN       NaN   \n",
       "2        NaN     NaN  ...       NaN       NaN       NaN       NaN       NaN   \n",
       "3        NaN     NaN  ...       NaN       NaN       NaN       NaN       NaN   \n",
       "4        NaN     NaN  ...       NaN       NaN       NaN       NaN       NaN   \n",
       "...      ...     ...  ...       ...       ...       ...       ...       ...   \n",
       "4843     NaN     NaN  ...       NaN       NaN       NaN       NaN       NaN   \n",
       "4844     NaN     NaN  ...       NaN       NaN       NaN       NaN       NaN   \n",
       "4845     NaN     NaN  ...       NaN       NaN       NaN       NaN       NaN   \n",
       "4846     NaN     NaN  ...       NaN       NaN       NaN       NaN       NaN   \n",
       "4847     NaN     NaN  ...       NaN       NaN       NaN       NaN       NaN   \n",
       "\n",
       "      Movie202  Movie203  Movie204  Movie205  Movie206  \n",
       "0          NaN       NaN       NaN       NaN       NaN  \n",
       "1          NaN       NaN       NaN       NaN       NaN  \n",
       "2          NaN       NaN       NaN       NaN       NaN  \n",
       "3          NaN       NaN       NaN       NaN       NaN  \n",
       "4          NaN       NaN       NaN       NaN       NaN  \n",
       "...        ...       ...       ...       ...       ...  \n",
       "4843       NaN       NaN       NaN       NaN       5.0  \n",
       "4844       NaN       NaN       NaN       NaN       5.0  \n",
       "4845       NaN       NaN       NaN       NaN       5.0  \n",
       "4846       NaN       NaN       NaN       NaN       5.0  \n",
       "4847       NaN       NaN       NaN       NaN       5.0  \n",
       "\n",
       "[4848 rows x 207 columns]>"
      ]
     },
     "execution_count": 47,
     "metadata": {},
     "output_type": "execute_result"
    }
   ],
   "source": [
    "dataset.insert"
   ]
  },
  {
   "cell_type": "code",
   "execution_count": 48,
   "metadata": {},
   "outputs": [
    {
     "data": {
      "text/html": [
       "<div>\n",
       "<style scoped>\n",
       "    .dataframe tbody tr th:only-of-type {\n",
       "        vertical-align: middle;\n",
       "    }\n",
       "\n",
       "    .dataframe tbody tr th {\n",
       "        vertical-align: top;\n",
       "    }\n",
       "\n",
       "    .dataframe thead th {\n",
       "        text-align: right;\n",
       "    }\n",
       "</style>\n",
       "<table border=\"1\" class=\"dataframe\">\n",
       "  <thead>\n",
       "    <tr style=\"text-align: right;\">\n",
       "      <th></th>\n",
       "      <th>User_id</th>\n",
       "      <th>Movie_id</th>\n",
       "      <th>Rating</th>\n",
       "    </tr>\n",
       "  </thead>\n",
       "  <tbody>\n",
       "    <tr>\n",
       "      <th>0</th>\n",
       "      <td>A3R5OBKS7OM2IR</td>\n",
       "      <td>Movie1</td>\n",
       "      <td>5.0</td>\n",
       "    </tr>\n",
       "    <tr>\n",
       "      <th>1</th>\n",
       "      <td>A3R5OBKS7OM2IR</td>\n",
       "      <td>Movie2</td>\n",
       "      <td>5.0</td>\n",
       "    </tr>\n",
       "    <tr>\n",
       "      <th>2</th>\n",
       "      <td>AH3QC2PC1VTGP</td>\n",
       "      <td>Movie3</td>\n",
       "      <td>2.0</td>\n",
       "    </tr>\n",
       "    <tr>\n",
       "      <th>3</th>\n",
       "      <td>A3LKP6WPMP9UKX</td>\n",
       "      <td>Movie4</td>\n",
       "      <td>5.0</td>\n",
       "    </tr>\n",
       "    <tr>\n",
       "      <th>4</th>\n",
       "      <td>AVIY68KEPQ5ZD</td>\n",
       "      <td>Movie4</td>\n",
       "      <td>5.0</td>\n",
       "    </tr>\n",
       "    <tr>\n",
       "      <th>5</th>\n",
       "      <td>A1CV1WROP5KTTW</td>\n",
       "      <td>Movie5</td>\n",
       "      <td>5.0</td>\n",
       "    </tr>\n",
       "    <tr>\n",
       "      <th>6</th>\n",
       "      <td>AP57WZ2X4G0AA</td>\n",
       "      <td>Movie5</td>\n",
       "      <td>2.0</td>\n",
       "    </tr>\n",
       "    <tr>\n",
       "      <th>7</th>\n",
       "      <td>A3NMBJ2LCRCATT</td>\n",
       "      <td>Movie5</td>\n",
       "      <td>5.0</td>\n",
       "    </tr>\n",
       "    <tr>\n",
       "      <th>8</th>\n",
       "      <td>A5Y15SAOMX6XA</td>\n",
       "      <td>Movie5</td>\n",
       "      <td>2.0</td>\n",
       "    </tr>\n",
       "    <tr>\n",
       "      <th>9</th>\n",
       "      <td>A3P671HJ32TCSF</td>\n",
       "      <td>Movie5</td>\n",
       "      <td>5.0</td>\n",
       "    </tr>\n",
       "    <tr>\n",
       "      <th>10</th>\n",
       "      <td>A3VCKTRD24BG7K</td>\n",
       "      <td>Movie5</td>\n",
       "      <td>5.0</td>\n",
       "    </tr>\n",
       "    <tr>\n",
       "      <th>11</th>\n",
       "      <td>None</td>\n",
       "      <td>None</td>\n",
       "      <td>NaN</td>\n",
       "    </tr>\n",
       "  </tbody>\n",
       "</table>\n",
       "</div>"
      ],
      "text/plain": [
       "           User_id Movie_id  Rating\n",
       "0   A3R5OBKS7OM2IR   Movie1     5.0\n",
       "1   A3R5OBKS7OM2IR   Movie2     5.0\n",
       "2    AH3QC2PC1VTGP   Movie3     2.0\n",
       "3   A3LKP6WPMP9UKX   Movie4     5.0\n",
       "4    AVIY68KEPQ5ZD   Movie4     5.0\n",
       "5   A1CV1WROP5KTTW   Movie5     5.0\n",
       "6    AP57WZ2X4G0AA   Movie5     2.0\n",
       "7   A3NMBJ2LCRCATT   Movie5     5.0\n",
       "8    A5Y15SAOMX6XA   Movie5     2.0\n",
       "9   A3P671HJ32TCSF   Movie5     5.0\n",
       "10  A3VCKTRD24BG7K   Movie5     5.0\n",
       "11            None     None     NaN"
      ]
     },
     "execution_count": 48,
     "metadata": {},
     "output_type": "execute_result"
    }
   ],
   "source": [
    "# Step4\n",
    "pd.DataFrame(data,columns = ['User_id', 'Movie_id','Rating'])"
   ]
  },
  {
   "cell_type": "code",
   "execution_count": 49,
   "metadata": {},
   "outputs": [
    {
     "data": {
      "text/plain": [
       "0       A3R5OBKS7OM2IR\n",
       "1        AH3QC2PC1VTGP\n",
       "2       A3LKP6WPMP9UKX\n",
       "3        AVIY68KEPQ5ZD\n",
       "4       A1CV1WROP5KTTW\n",
       "             ...      \n",
       "4843    A1IMQ9WMFYKWH5\n",
       "4844    A1KLIKPUF5E88I\n",
       "4845     A5HG6WFZLO10D\n",
       "4846    A3UU690TWXCG1X\n",
       "4847     AI4J762YI6S06\n",
       "Name: user_id, Length: 4848, dtype: object"
      ]
     },
     "execution_count": 49,
     "metadata": {},
     "output_type": "execute_result"
    }
   ],
   "source": [
    "dataset.iloc[:,0]"
   ]
  },
  {
   "cell_type": "code",
   "execution_count": 50,
   "metadata": {},
   "outputs": [
    {
     "data": {
      "text/plain": [
       "0       5.0\n",
       "1       NaN\n",
       "2       NaN\n",
       "3       NaN\n",
       "4       NaN\n",
       "       ... \n",
       "4843    NaN\n",
       "4844    NaN\n",
       "4845    NaN\n",
       "4846    NaN\n",
       "4847    NaN\n",
       "Name: Movie1, Length: 4848, dtype: float64"
      ]
     },
     "execution_count": 50,
     "metadata": {},
     "output_type": "execute_result"
    }
   ],
   "source": [
    "# Dynamic query creation\n",
    "# dataset['user_id']\n",
    "dataset['Movie1']"
   ]
  },
  {
   "cell_type": "code",
   "execution_count": 51,
   "metadata": {},
   "outputs": [],
   "source": [
    "# for i in range(0,4):\n",
    "#     for j in range(0,30):\n",
    "#         pd.DataFrame([dataset.iloc[i,0],'Movie'j],columns=['User_id','Movie'])\n",
    "        "
   ]
  },
  {
   "cell_type": "code",
   "execution_count": 52,
   "metadata": {},
   "outputs": [
    {
     "name": "stdout",
     "output_type": "stream",
     "text": [
      "A3R5OBKS7OM2IR\n",
      "AH3QC2PC1VTGP\n",
      "A3LKP6WPMP9UKX\n",
      "AVIY68KEPQ5ZD\n"
     ]
    }
   ],
   "source": [
    "for i in range(0,4):\n",
    "    k=dataset.iloc[i,0]\n",
    "    print(k)\n",
    "    \n",
    "     \n",
    "        \n",
    "        "
   ]
  },
  {
   "cell_type": "code",
   "execution_count": 53,
   "metadata": {},
   "outputs": [],
   "source": [
    "# # First attempt to make dataset as list view form\n",
    "# # error occured:-ValueError: The truth value of a DataFrame is ambiguous. Use a.empty, a.bool(), a.item(), a.any() or a.all().\n",
    "\n",
    "\n",
    "\n",
    "\n",
    "\n",
    "\n",
    "# # for i in range(0,3):\n",
    "# f=dataset['user_id']\n",
    "# f=f.to_frame()\n",
    "# newdf = pd.DataFrame(np.repeat(f.values,207,axis = 0))\n",
    "# newdf.columns = f.columns\n",
    "\n",
    "# for j in range(0,207):\n",
    "    \n",
    "        \n",
    "# #         f=dataset.iloc[i,0]\n",
    "        \n",
    "# #         f = dataset['user_id']\n",
    "# #         f = pd.Series(f)*206\n",
    "# #         print(f)\n",
    "#     k = 'Movie'+str(j)\n",
    "#     g = dataset.iloc[j,1:].values\n",
    "# # #         print(g)\n",
    "#     mm = pd.Series(newdf)\n",
    "#     gg = pd.Series(g)\n",
    "#     ll = pd.Series(k)\n",
    "# # #         print(gg)\n",
    "#     df2=pd.concat([mm,gg],axis = 1)\n",
    "#     df3 = pd.concat([gg,ll],axis =1)\n",
    "#     print(df2)\n",
    "        \n",
    "# # # #         m = pd.DataFrame(f,g)\n",
    "# # # #         f.concat(k)\n",
    "# # #         User_id = pd.Series(f,name = \"User_id\")\n",
    "# # #         Movie_id=pd.Series(g,name=\"Movie_id\") \n",
    "# # #         df1 = pd.concat([User_id,Movie_id],axis = 1)\n",
    "# # #         print(df1)\n",
    "        "
   ]
  },
  {
   "cell_type": "code",
   "execution_count": 54,
   "metadata": {},
   "outputs": [],
   "source": [
    "# Creating Movie_id as series Manually\n",
    "\n",
    "\n",
    "Movie_ID=pd.Series(['Movie1','Movie2','Movie3','Movie4','Movie5','Movie6','Movie7','Movie8','Movie9','Movie10','Movie11',\n",
    "          'Movie12','Movie13','Movie14','Movie15','Movie16','Movie17','Movie18','Movie19','Movie20','Movie21',\n",
    "           'Movie22','Movie23','Movie24','Movie25','Movie26','Movie27','Movie28','Movie29','Movie30','Movie31',\n",
    "          'Movie32','Movie33','Movie34','Movie35','Movie36','Movie37','Movie38','Movie39','Movie40','Movie41',\n",
    "          'Movie42','Movie43','Movie44','Movie45','Movie46','Movie47','Movie48','Movie49','Movie50','Movie51',\n",
    "          'Movie52','Movie53','Movie54','Movie55','Movie56','Movie57','Movie58','Movie59','Movie60','Movie61',\n",
    "          'Movie62','Movie63','Movie64','Movie65','Movie66','Movie67','Movie68','Movie69','Movie70','Movie71',\n",
    "          'Movie72','Movie73','Movie74','Movie75','Movie76','Movie77','Movie78','Movie79','Movie80','Movie81',\n",
    "          'Movie82','Movie83','Movie84','Movie85','Movie86','Movie87','Movie88','Movie89','Movie90','Movie91',\n",
    "          'Movie92','Movie93','Movie94','Movie95','Movie96','Movie97','Movie98','Movie99','Movie100','Movie101',\n",
    "          'Movie102','Movie103','Movie104','Movie105','Movie106','Movie107','Movie108','Movie109','Movie110','Movie111',\n",
    "          'Movie112','Movie113','Movie114','Movie115','Movie116','Movie117','Movie118','Movie119','Movie120','Movie121',\n",
    "          'Movie122','Movie123','Movie124','Movie125','Movie126','Movie127','Movie128','Movie129','Movie130','Movie131',\n",
    "          'Movie132','Movie133','Movie134','Movie135','Movie136','Movie137','Movie138','Movie139','Movie140','Movie141',\n",
    "          'Movie142','Movie143','Movie144','Movie145','Movie146','Movie147','Movie148','Movie149','Movie150','Movie151',\n",
    "          'Movie152','Movie153','Movie154','Movie155','Movie156','Movie157','Movie158','Movie159','Movie160','Movie161',\n",
    "           'Movie162','Movie163','Movie164','Movie165','Movie166','Movie167','Movie168','Movie169','Movie170','Movie171',\n",
    "          'Movie172','Movie173','Movie174','Movie175','Movie176','Movie177','Movie178','Movie179','Movie180','Movie181',\n",
    "           'Movie182','Movie183','Movie184','Movie185','Movie186','Movie187','Movie188','Movie189','Movie190','Movie191',\n",
    "          'Movie192','Movie193','Movie194','Movie195','Movie196','Movie197','Movie198','Movie199','Movie200','Movie201',\n",
    "          'Movie202','Movie203','Movie204','Movie205','Movie206']*4848)"
   ]
  },
  {
   "cell_type": "code",
   "execution_count": 55,
   "metadata": {},
   "outputs": [
    {
     "name": "stdout",
     "output_type": "stream",
     "text": [
      "0           Movie1\n",
      "1           Movie2\n",
      "2           Movie3\n",
      "3           Movie4\n",
      "4           Movie5\n",
      "            ...   \n",
      "998683    Movie202\n",
      "998684    Movie203\n",
      "998685    Movie204\n",
      "998686    Movie205\n",
      "998687    Movie206\n",
      "Length: 998688, dtype: object\n"
     ]
    }
   ],
   "source": [
    "print(Movie_ID)"
   ]
  },
  {
   "cell_type": "code",
   "execution_count": 56,
   "metadata": {},
   "outputs": [],
   "source": [
    "for m in range(11,4859):\n",
    "    jk = m\n",
    "#     print(jk)"
   ]
  },
  {
   "cell_type": "code",
   "execution_count": 57,
   "metadata": {},
   "outputs": [],
   "source": [
    "yt = pd.Series(jk)"
   ]
  },
  {
   "cell_type": "code",
   "execution_count": null,
   "metadata": {},
   "outputs": [],
   "source": []
  },
  {
   "cell_type": "code",
   "execution_count": 58,
   "metadata": {},
   "outputs": [],
   "source": [
    "Movie_id = pd.DataFrame(Movie_ID,columns=['movie_id'])"
   ]
  },
  {
   "cell_type": "code",
   "execution_count": 59,
   "metadata": {},
   "outputs": [],
   "source": [
    "# Movie_id = Movie_id.astype('int64')"
   ]
  },
  {
   "cell_type": "code",
   "execution_count": 60,
   "metadata": {},
   "outputs": [
    {
     "data": {
      "text/plain": [
       "0       A3R5OBKS7OM2IR\n",
       "1        AH3QC2PC1VTGP\n",
       "2       A3LKP6WPMP9UKX\n",
       "3        AVIY68KEPQ5ZD\n",
       "4       A1CV1WROP5KTTW\n",
       "             ...      \n",
       "4843    A1IMQ9WMFYKWH5\n",
       "4844    A1KLIKPUF5E88I\n",
       "4845     A5HG6WFZLO10D\n",
       "4846    A3UU690TWXCG1X\n",
       "4847     AI4J762YI6S06\n",
       "Name: user_id, Length: 4848, dtype: object"
      ]
     },
     "execution_count": 60,
     "metadata": {},
     "output_type": "execute_result"
    }
   ],
   "source": [
    "dataset['user_id']"
   ]
  },
  {
   "cell_type": "code",
   "execution_count": 61,
   "metadata": {},
   "outputs": [],
   "source": [
    "f=dataset['user_id']\n",
    "f=f.to_frame()\n",
    "newdf = pd.DataFrame(np.repeat(f.values,206,axis = 0))\n",
    "newdf.columns = f.columns\n"
   ]
  },
  {
   "cell_type": "code",
   "execution_count": 62,
   "metadata": {},
   "outputs": [
    {
     "name": "stdout",
     "output_type": "stream",
     "text": [
      "               user_id  movie_id ratings\n",
      "0       A3R5OBKS7OM2IR    Movie1       5\n",
      "1       A3R5OBKS7OM2IR    Movie2       5\n",
      "2       A3R5OBKS7OM2IR    Movie3     NaN\n",
      "3       A3R5OBKS7OM2IR    Movie4     NaN\n",
      "4       A3R5OBKS7OM2IR    Movie5     NaN\n",
      "...                ...       ...     ...\n",
      "998683   AI4J762YI6S06  Movie202     NaN\n",
      "998684   AI4J762YI6S06  Movie203     NaN\n",
      "998685   AI4J762YI6S06  Movie204     NaN\n",
      "998686   AI4J762YI6S06  Movie205     NaN\n",
      "998687   AI4J762YI6S06  Movie206     NaN\n",
      "\n",
      "[998688 rows x 3 columns]\n"
     ]
    }
   ],
   "source": [
    "#  Creating dataset in table list format \n",
    "\n",
    "\n",
    "# for i in range(0,3):\n",
    "# #     f=dataset.iloc[i,0]\n",
    "f=dataset['user_id']\n",
    "f=f.to_frame()\n",
    "newdf = pd.DataFrame(np.repeat(f.values,206,axis = 0))\n",
    "newdf.columns = f.columns\n",
    "\n",
    "# print(newdf)\n",
    "Movie_id = pd.DataFrame(Movie_ID,columns=['movie_id'])\n",
    "    \n",
    "for j in range(0,1):\n",
    "    \n",
    "        \n",
    "    g = dataset.iloc[j,1:].values  \n",
    "    gg = pd.Series(g)\n",
    "    gg=gg.to_frame()\n",
    "    gg=pd.DataFrame(g,columns=['ratings'])\n",
    "#     print(gg)\n",
    "    df5 = pd.concat([newdf,Movie_id,gg],axis = 1)\n",
    "    print(df5)\n",
    "#     f=f.to_frame()\n",
    "#     newdf = pd.DataFrame(np.repeat(f.values,207,axis = 0))\n",
    "    \n",
    "#     f = pd.Series(f)\n",
    "#     print(newdf)\n",
    "#     for j in range(0,208):\n",
    "#         newdf = pd.DataFrame(np.repeat(df.values,3,axis=0))\n",
    "# newdf.columns = df.columns\n",
    "# print(newdf)\n",
    "# #         f=dataset.iloc[i,0]\n",
    "        \n",
    "#         f = dataset['user_id']\n",
    "#         f = pd.Series(f)*206\n",
    "#         print(f)"
   ]
  },
  {
   "cell_type": "code",
   "execution_count": 63,
   "metadata": {},
   "outputs": [],
   "source": [
    "# f=f.to_frame()\n",
    "newdf = pd.DataFrame(np.repeat(f.values,206,axis = 0))\n",
    "newdf.columns = f.columns\n"
   ]
  },
  {
   "cell_type": "code",
   "execution_count": 64,
   "metadata": {},
   "outputs": [],
   "source": [
    "df5['ratings']=df5['ratings'].fillna(0)"
   ]
  },
  {
   "cell_type": "code",
   "execution_count": null,
   "metadata": {},
   "outputs": [],
   "source": []
  },
  {
   "cell_type": "code",
   "execution_count": 65,
   "metadata": {},
   "outputs": [],
   "source": [
    "n_users = df5.user_id.unique().shape[0]  \n",
    "n_movies = df5.movie_id.unique().shape[0]  \n"
   ]
  },
  {
   "cell_type": "code",
   "execution_count": 66,
   "metadata": {},
   "outputs": [
    {
     "name": "stdout",
     "output_type": "stream",
     "text": [
      "4848\n"
     ]
    }
   ],
   "source": [
    "print(n_users)"
   ]
  },
  {
   "cell_type": "code",
   "execution_count": 67,
   "metadata": {},
   "outputs": [],
   "source": [
    "train_data, test_data = train_test_split(df5, test_size=0.25)\n"
   ]
  },
  {
   "cell_type": "code",
   "execution_count": 68,
   "metadata": {},
   "outputs": [],
   "source": [
    "train_data_matrix = np.zeros((n_users, n_movies))"
   ]
  },
  {
   "cell_type": "code",
   "execution_count": 69,
   "metadata": {},
   "outputs": [],
   "source": [
    "# Tried with old data set and facing error due movie_id and user_id string data type\n",
    "\n",
    "\n",
    "# train_data_matrix = np.zeros((n_users, n_movies))\n",
    "# for line in train_data.itertuples():\n",
    "    \n",
    "#     #[user_id index, movie_id index] = given rating.\n",
    "#     train_data_matrix[int(line[1]-1, line[2]-1)] = line[3]  \n",
    "   \n",
    "\n",
    "\n",
    "\n"
   ]
  },
  {
   "cell_type": "code",
   "execution_count": 70,
   "metadata": {},
   "outputs": [],
   "source": [
    "# Tried with old data set and facing error due movie_id and user_id string data type\n",
    "\n",
    "\n",
    "# train_data_matrix = np.zeros((n_users, n_movies))\n",
    "# for line in (train_data.itertuples()):\n",
    "#     train_data_matrix[line[1]-1, line[2]-1] = line[3]  \n",
    "\n",
    "\n",
    "# test_data_matrix = np.zeros((n_users, n_movies))\n",
    "# for line in (test_data.itertuples()):\n",
    "#     #[user_id index, movie_id index] = given rating.\n",
    "#     test_data_matrix[line[1]-1, line[2]-1] = line[3]\n"
   ]
  },
  {
   "cell_type": "code",
   "execution_count": 71,
   "metadata": {},
   "outputs": [],
   "source": [
    "# for line in dataset.itertuples():\n",
    "#     print(line)\n",
    "\n",
    "# dataset.iloc[]"
   ]
  },
  {
   "cell_type": "code",
   "execution_count": null,
   "metadata": {},
   "outputs": [],
   "source": []
  },
  {
   "cell_type": "code",
   "execution_count": 72,
   "metadata": {},
   "outputs": [
    {
     "data": {
      "text/plain": [
       "pandas.core.frame.DataFrame"
      ]
     },
     "execution_count": 72,
     "metadata": {},
     "output_type": "execute_result"
    }
   ],
   "source": [
    "type(dataset)"
   ]
  },
  {
   "cell_type": "code",
   "execution_count": 73,
   "metadata": {},
   "outputs": [],
   "source": [
    "ky = pd.Series(np.arange(1,4849,1))"
   ]
  },
  {
   "cell_type": "code",
   "execution_count": 74,
   "metadata": {},
   "outputs": [],
   "source": [
    "ky=ky.to_frame()"
   ]
  },
  {
   "cell_type": "code",
   "execution_count": 75,
   "metadata": {},
   "outputs": [
    {
     "name": "stdout",
     "output_type": "stream",
     "text": [
      "        User_id_int\n",
      "0                 1\n",
      "1                 1\n",
      "2                 1\n",
      "3                 1\n",
      "4                 1\n",
      "...             ...\n",
      "998683         4848\n",
      "998684         4848\n",
      "998685         4848\n",
      "998686         4848\n",
      "998687         4848\n",
      "\n",
      "[998688 rows x 1 columns]\n"
     ]
    }
   ],
   "source": [
    "# f=dataset['user_id']\n",
    "# f=f.to_frame()\n",
    "\n",
    "\n",
    "newdf11 = pd.DataFrame(np.repeat(ky.values,206,axis = 0))\n",
    "newdf11.columns = ky.columns\n",
    "newdf11.columns=['User_id_int']\n",
    "print(newdf11)\n"
   ]
  },
  {
   "cell_type": "code",
   "execution_count": 76,
   "metadata": {},
   "outputs": [],
   "source": [
    "Mv_id_int = pd.Series(np.arange(1,207,1))\n",
    "# print(Mv_id_int)"
   ]
  },
  {
   "cell_type": "code",
   "execution_count": 77,
   "metadata": {},
   "outputs": [],
   "source": [
    "# MVE_id_int =pd.Series([Mv_id_int]*4848)\n",
    "# print(MVE_id_int),2"
   ]
  },
  {
   "cell_type": "code",
   "execution_count": 78,
   "metadata": {},
   "outputs": [
    {
     "name": "stdout",
     "output_type": "stream",
     "text": [
      "0           1\n",
      "1           2\n",
      "2           3\n",
      "3           4\n",
      "4           5\n",
      "         ... \n",
      "998683    202\n",
      "998684    203\n",
      "998685    204\n",
      "998686    205\n",
      "998687    206\n",
      "Length: 998688, dtype: int64\n"
     ]
    }
   ],
   "source": [
    "mve = pd.Series([1,2,3,4,5,6,7,8,9,10,11,12,13,14,15,16,17,18,19,20,21,22,23,24,25,26,27,28,29,30,31,32,33,34,35,36,37,38,\n",
    "                39,40,41,42,43,44,45,46,47,48,49,50,51,52,53,54,55,56,57,58,59,60,61,62,63,64,65,66,67,68,69,70,71,72,73,74,75,\n",
    "                76,77,78,79,80,81,82,83,84,85,86,87,88,89,90,91,92,93,94,95,96,97,98,99,100,101,102,103,104,105,106,107,108,109,\n",
    "                110,111,112,113,114,115,116,117,118,119,120,121,122,123,124,125,126,127,128,129,130,131,132,133,134,135,136,\n",
    "                137,138,139,140,141,142,143,144,145,146,147,148,149,150,151,152,153,154,155,156,157,158,159,160,161,\n",
    "                162,163,164,165,166,167,168,169,170,171,172,173,174,175,176,177,178,179,180,181,182,183,184,185,186,187,188,189,\n",
    "                190,191,192,193,194,195,196,197,198,199,200,201,202,203,204,205,206]*4848)\n",
    "print(mve)"
   ]
  },
  {
   "cell_type": "code",
   "execution_count": 79,
   "metadata": {},
   "outputs": [
    {
     "name": "stdout",
     "output_type": "stream",
     "text": [
      "        movie_id_int\n",
      "0                  1\n",
      "1                  2\n",
      "2                  3\n",
      "3                  4\n",
      "4                  5\n",
      "...              ...\n",
      "998683           202\n",
      "998684           203\n",
      "998685           204\n",
      "998686           205\n",
      "998687           206\n",
      "\n",
      "[998688 rows x 1 columns]\n"
     ]
    }
   ],
   "source": [
    "Movie_id_int = pd.DataFrame(mve,columns=['movie_id_int'])\n",
    "print(Movie_id_int )\n",
    "    "
   ]
  },
  {
   "cell_type": "code",
   "execution_count": 80,
   "metadata": {},
   "outputs": [
    {
     "name": "stdout",
     "output_type": "stream",
     "text": [
      "        User_id_int  movie_id_int ratings\n",
      "0                 1             1       5\n",
      "1                 1             2       5\n",
      "2                 1             3     NaN\n",
      "3                 1             4     NaN\n",
      "4                 1             5     NaN\n",
      "...             ...           ...     ...\n",
      "998683         4848           202     NaN\n",
      "998684         4848           203     NaN\n",
      "998685         4848           204     NaN\n",
      "998686         4848           205     NaN\n",
      "998687         4848           206     NaN\n",
      "\n",
      "[998688 rows x 3 columns]\n"
     ]
    }
   ],
   "source": [
    "# for i in range(0,3):\n",
    "# #     f=dataset.iloc[i,0]\n",
    "newdf11 = pd.DataFrame(np.repeat(ky.values,206,axis = 0))\n",
    "newdf11.columns = ky.columns\n",
    "newdf11.columns=['User_id_int']\n",
    "# print(newdf)\n",
    "Movie_id_int = pd.DataFrame(mve,columns=['movie_id_int'])\n",
    "    \n",
    "for j in range(0,1):\n",
    "    \n",
    "        \n",
    "#         f=dataset.iloc[i,0]\n",
    "        \n",
    "#         f = dataset['user_id']\n",
    "#         f = pd.Series(f)*206\n",
    "#         print(f)\n",
    "#     k = 'Movie'+str(j)\n",
    "    g = dataset.iloc[j,1:].values  \n",
    "    gg = pd.Series(g)\n",
    "    gg=gg.to_frame()\n",
    "    gg=pd.DataFrame(g,columns=['ratings'])\n",
    "#     print(gg)\n",
    "    dfnew = pd.concat([newdf11,Movie_id_int,gg],axis = 1)\n",
    "    print(dfnew)\n",
    "#     f=f.to_frame()\n",
    "#     newdf = pd.DataFrame(np.repeat(f.values,207,axis = 0))\n",
    "    \n",
    "#     f = pd.Series(f)\n",
    "#     print(newdf)\n",
    "#     for j in range(0,208):\n",
    "#         newdf = pd.DataFrame(np.repeat(df.values,3,axis=0))\n",
    "# newdf.columns = df.columns\n",
    "# print(newdf)\n",
    "# #         f=dataset.iloc[i,0]\n",
    "        \n",
    "#         f = dataset['user_id']\n",
    "#         f = pd.Series(f)*206\n",
    "#         print(f)"
   ]
  },
  {
   "cell_type": "code",
   "execution_count": 81,
   "metadata": {},
   "outputs": [],
   "source": [
    "dfnew =dfnew.fillna(0)"
   ]
  },
  {
   "cell_type": "code",
   "execution_count": 82,
   "metadata": {},
   "outputs": [],
   "source": [
    "#Declare number of users and movies.\n",
    "n_users = dfnew.User_id_int.unique().shape[0]  \n",
    "n_movies = dfnew.movie_id_int.unique().shape[0]  \n"
   ]
  },
  {
   "cell_type": "code",
   "execution_count": 83,
   "metadata": {},
   "outputs": [],
   "source": [
    "\n",
    "#Creates a train test split of 75/25.\n",
    "train_data, test_data = train_test_split(dfnew, test_size=0.25)\n"
   ]
  },
  {
   "cell_type": "code",
   "execution_count": 84,
   "metadata": {},
   "outputs": [],
   "source": [
    "train_data_matrix = np.zeros((n_users, n_movies))\n",
    "for line in train_data.itertuples():\n",
    "    #[user_id index, movie_id index] = given rating.\n",
    "    train_data_matrix[line[1]-1, line[2]-1] = line[3]  \n",
    "\n",
    "\n",
    "test_data_matrix = np.zeros((n_users, n_movies))\n",
    "for line in test_data.itertuples():\n",
    "    #[user_id index, movie_id index] = given rating.\n",
    "    test_data_matrix[line[1]-1, line[2]-1] = line[3]\n"
   ]
  },
  {
   "cell_type": "code",
   "execution_count": 85,
   "metadata": {},
   "outputs": [],
   "source": [
    "\n",
    "#Creates cosine similarity matrices for users and movies. \n",
    "user_similarity = pairwise_distances(train_data_matrix, metric='cosine')\n",
    "movie_similarity = pairwise_distances(train_data_matrix.T, metric='cosine')\n"
   ]
  },
  {
   "cell_type": "code",
   "execution_count": 86,
   "metadata": {},
   "outputs": [],
   "source": [
    "## Predictions \n",
    "#User-Movie Collaborative Filtering, difference from mean rating is a better indicator than absolute rating.\n",
    "mean_user_rating = train_data_matrix.mean(axis=1)[:, np.newaxis] \n",
    "ratings_diff = (train_data_matrix - mean_user_rating) \n",
    "user_pred = mean_user_rating + user_similarity.dot(ratings_diff) / np.array([np.abs(user_similarity).sum(axis=1)]).T\n"
   ]
  },
  {
   "cell_type": "code",
   "execution_count": 87,
   "metadata": {},
   "outputs": [
    {
     "name": "stdout",
     "output_type": "stream",
     "text": [
      "Collaborative Filtering RMSE\n"
     ]
    },
    {
     "ename": "ValueError",
     "evalue": "Found array with 0 sample(s) (shape=(0,)) while a minimum of 1 is required.",
     "output_type": "error",
     "traceback": [
      "\u001b[0;31m---------------------------------------------------------------------------\u001b[0m",
      "\u001b[0;31mValueError\u001b[0m                                Traceback (most recent call last)",
      "\u001b[0;32m<ipython-input-87-bc2254aaf385>\u001b[0m in \u001b[0;36m<module>\u001b[0;34m\u001b[0m\n\u001b[1;32m      9\u001b[0m \u001b[0;34m\u001b[0m\u001b[0m\n\u001b[1;32m     10\u001b[0m \u001b[0mprint\u001b[0m\u001b[0;34m(\u001b[0m\u001b[0;34m\"Collaborative Filtering RMSE\"\u001b[0m\u001b[0;34m)\u001b[0m\u001b[0;34m\u001b[0m\u001b[0;34m\u001b[0m\u001b[0m\n\u001b[0;32m---> 11\u001b[0;31m \u001b[0mprint\u001b[0m\u001b[0;34m(\u001b[0m\u001b[0;34m'User-based: '\u001b[0m\u001b[0;34m,\u001b[0m \u001b[0mrmse\u001b[0m\u001b[0;34m(\u001b[0m\u001b[0muser_pred\u001b[0m\u001b[0;34m,\u001b[0m \u001b[0mtest_data_matrix\u001b[0m\u001b[0;34m)\u001b[0m\u001b[0;34m)\u001b[0m\u001b[0;34m\u001b[0m\u001b[0;34m\u001b[0m\u001b[0m\n\u001b[0m",
      "\u001b[0;32m<ipython-input-87-bc2254aaf385>\u001b[0m in \u001b[0;36mrmse\u001b[0;34m(pred, test)\u001b[0m\n\u001b[1;32m      6\u001b[0m     \u001b[0mpred\u001b[0m \u001b[0;34m=\u001b[0m \u001b[0mpred\u001b[0m\u001b[0;34m[\u001b[0m\u001b[0mtest\u001b[0m\u001b[0;34m.\u001b[0m\u001b[0mnonzero\u001b[0m\u001b[0;34m(\u001b[0m\u001b[0;34m)\u001b[0m\u001b[0;34m]\u001b[0m\u001b[0;34m.\u001b[0m\u001b[0mflatten\u001b[0m\u001b[0;34m(\u001b[0m\u001b[0;34m)\u001b[0m\u001b[0;34m\u001b[0m\u001b[0;34m\u001b[0m\u001b[0m\n\u001b[1;32m      7\u001b[0m     \u001b[0mtest\u001b[0m \u001b[0;34m=\u001b[0m \u001b[0mtest\u001b[0m\u001b[0;34m[\u001b[0m\u001b[0mtest\u001b[0m\u001b[0;34m.\u001b[0m\u001b[0mnonzero\u001b[0m\u001b[0;34m(\u001b[0m\u001b[0;34m)\u001b[0m\u001b[0;34m]\u001b[0m\u001b[0;34m.\u001b[0m\u001b[0mflatten\u001b[0m\u001b[0;34m(\u001b[0m\u001b[0;34m)\u001b[0m\u001b[0;34m\u001b[0m\u001b[0;34m\u001b[0m\u001b[0m\n\u001b[0;32m----> 8\u001b[0;31m     \u001b[0;32mreturn\u001b[0m \u001b[0msqrt\u001b[0m\u001b[0;34m(\u001b[0m\u001b[0mmean_squared_error\u001b[0m\u001b[0;34m(\u001b[0m\u001b[0mpred\u001b[0m\u001b[0;34m,\u001b[0m \u001b[0mtest\u001b[0m\u001b[0;34m)\u001b[0m\u001b[0;34m)\u001b[0m\u001b[0;34m\u001b[0m\u001b[0;34m\u001b[0m\u001b[0m\n\u001b[0m\u001b[1;32m      9\u001b[0m \u001b[0;34m\u001b[0m\u001b[0m\n\u001b[1;32m     10\u001b[0m \u001b[0mprint\u001b[0m\u001b[0;34m(\u001b[0m\u001b[0;34m\"Collaborative Filtering RMSE\"\u001b[0m\u001b[0;34m)\u001b[0m\u001b[0;34m\u001b[0m\u001b[0;34m\u001b[0m\u001b[0m\n",
      "\u001b[0;32m/usr/local/lib/python3.7/site-packages/sklearn/metrics/_regression.py\u001b[0m in \u001b[0;36mmean_squared_error\u001b[0;34m(y_true, y_pred, sample_weight, multioutput, squared)\u001b[0m\n\u001b[1;32m    250\u001b[0m     \"\"\"\n\u001b[1;32m    251\u001b[0m     y_type, y_true, y_pred, multioutput = _check_reg_targets(\n\u001b[0;32m--> 252\u001b[0;31m         y_true, y_pred, multioutput)\n\u001b[0m\u001b[1;32m    253\u001b[0m     \u001b[0mcheck_consistent_length\u001b[0m\u001b[0;34m(\u001b[0m\u001b[0my_true\u001b[0m\u001b[0;34m,\u001b[0m \u001b[0my_pred\u001b[0m\u001b[0;34m,\u001b[0m \u001b[0msample_weight\u001b[0m\u001b[0;34m)\u001b[0m\u001b[0;34m\u001b[0m\u001b[0;34m\u001b[0m\u001b[0m\n\u001b[1;32m    254\u001b[0m     output_errors = np.average((y_true - y_pred) ** 2, axis=0,\n",
      "\u001b[0;32m/usr/local/lib/python3.7/site-packages/sklearn/metrics/_regression.py\u001b[0m in \u001b[0;36m_check_reg_targets\u001b[0;34m(y_true, y_pred, multioutput, dtype)\u001b[0m\n\u001b[1;32m     83\u001b[0m     \"\"\"\n\u001b[1;32m     84\u001b[0m     \u001b[0mcheck_consistent_length\u001b[0m\u001b[0;34m(\u001b[0m\u001b[0my_true\u001b[0m\u001b[0;34m,\u001b[0m \u001b[0my_pred\u001b[0m\u001b[0;34m)\u001b[0m\u001b[0;34m\u001b[0m\u001b[0;34m\u001b[0m\u001b[0m\n\u001b[0;32m---> 85\u001b[0;31m     \u001b[0my_true\u001b[0m \u001b[0;34m=\u001b[0m \u001b[0mcheck_array\u001b[0m\u001b[0;34m(\u001b[0m\u001b[0my_true\u001b[0m\u001b[0;34m,\u001b[0m \u001b[0mensure_2d\u001b[0m\u001b[0;34m=\u001b[0m\u001b[0;32mFalse\u001b[0m\u001b[0;34m,\u001b[0m \u001b[0mdtype\u001b[0m\u001b[0;34m=\u001b[0m\u001b[0mdtype\u001b[0m\u001b[0;34m)\u001b[0m\u001b[0;34m\u001b[0m\u001b[0;34m\u001b[0m\u001b[0m\n\u001b[0m\u001b[1;32m     86\u001b[0m     \u001b[0my_pred\u001b[0m \u001b[0;34m=\u001b[0m \u001b[0mcheck_array\u001b[0m\u001b[0;34m(\u001b[0m\u001b[0my_pred\u001b[0m\u001b[0;34m,\u001b[0m \u001b[0mensure_2d\u001b[0m\u001b[0;34m=\u001b[0m\u001b[0;32mFalse\u001b[0m\u001b[0;34m,\u001b[0m \u001b[0mdtype\u001b[0m\u001b[0;34m=\u001b[0m\u001b[0mdtype\u001b[0m\u001b[0;34m)\u001b[0m\u001b[0;34m\u001b[0m\u001b[0;34m\u001b[0m\u001b[0m\n\u001b[1;32m     87\u001b[0m \u001b[0;34m\u001b[0m\u001b[0m\n",
      "\u001b[0;32m/usr/local/lib/python3.7/site-packages/sklearn/utils/validation.py\u001b[0m in \u001b[0;36mcheck_array\u001b[0;34m(array, accept_sparse, accept_large_sparse, dtype, order, copy, force_all_finite, ensure_2d, allow_nd, ensure_min_samples, ensure_min_features, warn_on_dtype, estimator)\u001b[0m\n\u001b[1;32m    584\u001b[0m                              \u001b[0;34m\" minimum of %d is required%s.\"\u001b[0m\u001b[0;34m\u001b[0m\u001b[0;34m\u001b[0m\u001b[0m\n\u001b[1;32m    585\u001b[0m                              % (n_samples, array.shape, ensure_min_samples,\n\u001b[0;32m--> 586\u001b[0;31m                                 context))\n\u001b[0m\u001b[1;32m    587\u001b[0m \u001b[0;34m\u001b[0m\u001b[0m\n\u001b[1;32m    588\u001b[0m     \u001b[0;32mif\u001b[0m \u001b[0mensure_min_features\u001b[0m \u001b[0;34m>\u001b[0m \u001b[0;36m0\u001b[0m \u001b[0;32mand\u001b[0m \u001b[0marray\u001b[0m\u001b[0;34m.\u001b[0m\u001b[0mndim\u001b[0m \u001b[0;34m==\u001b[0m \u001b[0;36m2\u001b[0m\u001b[0;34m:\u001b[0m\u001b[0;34m\u001b[0m\u001b[0;34m\u001b[0m\u001b[0m\n",
      "\u001b[0;31mValueError\u001b[0m: Found array with 0 sample(s) (shape=(0,)) while a minimum of 1 is required."
     ]
    }
   ],
   "source": [
    "\n",
    "#Movie-Movie Collaborative Filtering\n",
    "movie_pred = train_data_matrix.dot(movie_similarity) / np.array([np.abs(movie_similarity).sum(axis=1)])\n",
    "\n",
    "#Root Mean Squared Error for validation.\n",
    "def rmse(pred, test):\n",
    "    pred = pred[test.nonzero()].flatten() \n",
    "    test = test[test.nonzero()].flatten()\n",
    "    return sqrt(mean_squared_error(pred, test))\n",
    "\n",
    "print(\"Collaborative Filtering RMSE\")\n",
    "print('User-based: ', rmse(user_pred, test_data_matrix))  \n"
   ]
  }
 ],
 "metadata": {
  "kernelspec": {
   "display_name": "Python 3",
   "language": "python",
   "name": "python3"
  },
  "language_info": {
   "codemirror_mode": {
    "name": "ipython",
    "version": 3
   },
   "file_extension": ".py",
   "mimetype": "text/x-python",
   "name": "python",
   "nbconvert_exporter": "python",
   "pygments_lexer": "ipython3",
   "version": "3.7.6"
  }
 },
 "nbformat": 4,
 "nbformat_minor": 4
}
